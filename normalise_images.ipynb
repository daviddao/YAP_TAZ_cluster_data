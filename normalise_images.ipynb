{
 "cells": [
  {
   "cell_type": "code",
   "execution_count": null,
   "metadata": {
    "collapsed": false,
    "scrolled": true
   },
   "outputs": [],
   "source": [
    "import os\n",
    "from scipy import misc\n",
    "import numpy as np\n",
    "\n",
    "path = \"../extracted_pics/YAP0/object_gallery/\"\n",
    "savepath = \"../extracted_pics/YAP0/normalised/\"\n",
    "# get file names\n",
    "files = os.listdir(path)\n",
    "\n",
    "# get list of unique images and corresponding tiles\n",
    "unique_images = {}\n",
    "for f in files:\n",
    "    if f == '.DS_Store':\n",
    "        continue\n",
    "    img_name, tile_name = f[1:-5].split(',')\n",
    "    img_name = img_name.strip()\n",
    "    tile_name = tile_name.strip()\n",
    "    if img_name in unique_images:\n",
    "        unique_images[img_name].append(tile_name)\n",
    "    else:\n",
    "        unique_images[img_name] = [tile_name]\n",
    "\n",
    "\n",
    "        \n",
    "# normalise each image\n",
    "for img_name in unique_images:\n",
    "    normalised_image = []\n",
    "    \n",
    "    for tile_name in unique_images[img_name]:\n",
    "        tile_path = os.path.join(path, '(%s, %s).jpg' % (img_name, tile_name))\n",
    "        tile = misc.imread(tile_path)\n",
    "        normalised_image.append(np.array(tile))\n",
    "    normalised_image = np.array(normalised_image)\n",
    "    normalised_image -= np.min(normalised_image)\n",
    "    normalised_image /= np.max(normalised_image)\n",
    "    normalised_image_path = os.path.join(savepath, '%s.npy' % (img_name))\n",
    "    np.save(normalised_image_path, normalised_image)\n",
    "    print 'wrote %s' % normalised_image_path"
   ]
  },
  {
   "cell_type": "code",
   "execution_count": null,
   "metadata": {
    "collapsed": true
   },
   "outputs": [],
   "source": []
  }
 ],
 "metadata": {
  "kernelspec": {
   "display_name": "Python 2",
   "language": "python",
   "name": "python2"
  },
  "language_info": {
   "codemirror_mode": {
    "name": "ipython",
    "version": 2
   },
   "file_extension": ".py",
   "mimetype": "text/x-python",
   "name": "python",
   "nbconvert_exporter": "python",
   "pygments_lexer": "ipython2",
   "version": "2.7.11"
  }
 },
 "nbformat": 4,
 "nbformat_minor": 0
}
