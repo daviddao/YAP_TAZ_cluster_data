{
 "cells": [
  {
   "cell_type": "code",
   "execution_count": 1,
   "metadata": {
    "collapsed": false
   },
   "outputs": [],
   "source": [
    "import pandas as pd\n",
    "import numpy as np\n",
    "\n",
    "\n",
    "df = pd.read_csv('./YAP_TAZ_Image_Number.csv')\n",
    "df = df[df['Image_Metadata_GeneSymbol'] != 'EMPTY']"
   ]
  },
  {
   "cell_type": "code",
   "execution_count": 2,
   "metadata": {
    "collapsed": false
   },
   "outputs": [],
   "source": [
    "split_dfs = np.array_split(df, 10)\n",
    "\n",
    "for i, items in enumerate(split_dfs):\n",
    "    items.to_csv('YAP_' + str(i) + '.csv', index=False, header=True)"
   ]
  },
  {
   "cell_type": "code",
   "execution_count": 6,
   "metadata": {
    "collapsed": false
   },
   "outputs": [],
   "source": [
    "df = pd.read_csv('./YAP_TAZ_Image_Number.csv')\n",
    "df = df[df['Image_Metadata_GeneSymbol'] == 'EMPTY'].head(200)"
   ]
  },
  {
   "cell_type": "code",
   "execution_count": 7,
   "metadata": {
    "collapsed": true
   },
   "outputs": [],
   "source": [
    "split_dfs_empty = np.array_split(df, 10)\n",
    "\n",
    "for i, items in enumerate(split_dfs_empty):\n",
    "    items.to_csv('YAP_empty' + str(i) + '.csv', index=False, header=True)"
   ]
  },
  {
   "cell_type": "code",
   "execution_count": null,
   "metadata": {
    "collapsed": true
   },
   "outputs": [],
   "source": []
  }
 ],
 "metadata": {
  "kernelspec": {
   "display_name": "Python 2",
   "language": "python",
   "name": "python2"
  },
  "language_info": {
   "codemirror_mode": {
    "name": "ipython",
    "version": 2
   },
   "file_extension": ".py",
   "mimetype": "text/x-python",
   "name": "python",
   "nbconvert_exporter": "python",
   "pygments_lexer": "ipython2",
   "version": "2.7.10"
  }
 },
 "nbformat": 4,
 "nbformat_minor": 0
}
